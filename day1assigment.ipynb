{
 "metadata": {
  "language_info": {
   "codemirror_mode": {
    "name": "ipython",
    "version": 3
   },
   "file_extension": ".py",
   "mimetype": "text/x-python",
   "name": "python",
   "nbconvert_exporter": "python",
   "pygments_lexer": "ipython3",
   "version": "3.9.0-final"
  },
  "orig_nbformat": 2,
  "kernelspec": {
   "name": "Python 3.9.0 64-bit",
   "display_name": "Python 3.9.0 64-bit",
   "metadata": {
    "interpreter": {
     "hash": "f595f2ede1967417670e52e545ab98aaeb915ca4fd1f5144431909e689684b36"
    }
   }
  }
 },
 "nbformat": 4,
 "nbformat_minor": 2,
 "cells": [
  {
   "source": [
    "#problem 1:\n",
    "print(\"guess correct word of OBANWRI\\nA. RANIBOW\\nB. RAINBOW\\nC. BOWRANI\\nD. ROBWANI\")\n",
    "e=input(\"\")\n",
    "if(e==\"A\" or e==\"C\" or e==\"D\"):\n",
    "    print(\"wrong choice\")\n",
    "elif(e==\"B\"):\n",
    "    print(\"Right\")"
   ],
   "cell_type": "code",
   "metadata": {},
   "execution_count": 3,
   "outputs": [
    {
     "output_type": "stream",
     "name": "stdout",
     "text": [
      "guess correct word of OBANWRI\n",
      "A. RANIBOW\n",
      "B. RAINBOW\n",
      "C. BOWRANI\n",
      "D. ROBWANI\n",
      "Right\n"
     ]
    }
   ]
  },
  {
   "cell_type": "code",
   "execution_count": 4,
   "metadata": {},
   "outputs": [
    {
     "output_type": "stream",
     "name": "stdout",
     "text": [
      "LETS UPGRADE\n"
     ]
    }
   ],
   "source": [
    "#problem 2:\n",
    "str=\"lets upgrade\"\n",
    "print(str.upper())"
   ]
  },
  {
   "cell_type": "code",
   "execution_count": 7,
   "metadata": {},
   "outputs": [
    {
     "output_type": "stream",
     "name": "stdout",
     "text": [
      "neither\n"
     ]
    }
   ],
   "source": [
    "#problem 3:\n",
    "Cost_prize=int(input(\"\"))\n",
    "Sell_prize=int(input(\"\"))\n",
    "if(Cost_prize>Sell_prize):\n",
    "    print(\"Loss\")\n",
    "elif(Cost_prize<Sell_prize):\n",
    "    print(\"Profit\")\n",
    "else:\n",
    "    print(\"Neither\")"
   ]
  },
  {
   "cell_type": "code",
   "execution_count": null,
   "metadata": {},
   "outputs": [],
   "source": []
  }
 ]
}